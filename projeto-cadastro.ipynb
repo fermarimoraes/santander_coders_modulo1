{
 "cells": [
  {
   "cell_type": "code",
   "execution_count": 13,
   "metadata": {},
   "outputs": [
    {
     "name": "stdout",
     "output_type": "stream",
     "text": [
      "Cadastro finalizado, inserido 1 novos\n",
      "{'99999999999': Pessoa(cpf='99999999999', nome='maria', idade=50, sexo='f', renda=450.0, estado='go')}\n",
      "A media da idade do sexo Feminino é:  50.0\n"
     ]
    },
    {
     "ename": "ZeroDivisionError",
     "evalue": "division by zero",
     "output_type": "error",
     "traceback": [
      "\u001b[0;31m---------------------------------------------------------------------------\u001b[0m",
      "\u001b[0;31mZeroDivisionError\u001b[0m                         Traceback (most recent call last)",
      "Cell \u001b[0;32mIn[13], line 55\u001b[0m\n\u001b[1;32m     53\u001b[0m cadastros \u001b[39m=\u001b[39m cadastrar_usuario()\n\u001b[1;32m     54\u001b[0m \u001b[39mprint\u001b[39m(cadastros)\n\u001b[0;32m---> 55\u001b[0m \u001b[39mprint\u001b[39m(calcule_media_idade_por_sexo(cadastros))\n\u001b[1;32m     56\u001b[0m \u001b[39mprint\u001b[39m(conte_quantidade_por_sexo(cadastros))\n\u001b[1;32m     57\u001b[0m \u001b[39mprint\u001b[39m(filtre_dados(cadastros, estado\u001b[39m=\u001b[39m\u001b[39m\"\u001b[39m\u001b[39mEstado\u001b[39m\u001b[39m\"\u001b[39m))\n",
      "Cell \u001b[0;32mIn[13], line 42\u001b[0m, in \u001b[0;36mcalcule_media_idade_por_sexo\u001b[0;34m(cadastros)\u001b[0m\n\u001b[1;32m     39\u001b[0m       soma_idade_masculino \u001b[39m=\u001b[39m soma_idade_masculino \u001b[39m+\u001b[39m pessoa\u001b[39m.\u001b[39midade\n\u001b[1;32m     41\u001b[0m \u001b[39mprint\u001b[39m(\u001b[39m'\u001b[39m\u001b[39mA media da idade do sexo Feminino é: \u001b[39m\u001b[39m'\u001b[39m, soma_idade_feminino \u001b[39m/\u001b[39m quantidade_feminino)\n\u001b[0;32m---> 42\u001b[0m \u001b[39mprint\u001b[39m(\u001b[39m'\u001b[39m\u001b[39mA media da idade do sexo Masculino é: \u001b[39m\u001b[39m'\u001b[39m, soma_idade_masculino \u001b[39m/\u001b[39;49m quantidade_masculino)\n",
      "\u001b[0;31mZeroDivisionError\u001b[0m: division by zero"
     ]
    }
   ],
   "source": [
    "from collections import namedtuple\n",
    "Pessoa = namedtuple('Pessoa', ['cpf', 'nome', 'idade', 'sexo', 'renda', \"estado\"])\n",
    "def cadastrar_usuario():\n",
    "  continuar_cadastro = True\n",
    "\n",
    "  cadastros = {}\n",
    "\n",
    "  while continuar_cadastro:\n",
    "    cadastrar = input('Deseja inserir um novo cadastro?')\n",
    "    if cadastrar.lower() in ['sim', 's', 'yes', 'y']:\n",
    "      cpf = input('Insira o cpf: ')\n",
    "      nome = input('Insira o nome: ')\n",
    "      idade = int(input('Insira a idade: '))\n",
    "      sexo = input('Insira o sexo: ')\n",
    "      renda = float(input('Insira a renda: '))\n",
    "      estado = input('Insira o estado: ')\n",
    "      cadastro = Pessoa(cpf=cpf, nome=nome, idade=idade, sexo=sexo, renda=renda, estado=estado)\n",
    "      cadastros[cpf] = cadastro\n",
    "    elif cadastrar.lower() in ['não', 'n', 'nao', 'no']:\n",
    "      print(f'Cadastro finalizado, inserido {len(cadastros)} novos')\n",
    "      continuar_cadastro = False\n",
    "    else:\n",
    "      print(f'Opção invalida. Foi inserido \"{cadastrar}\",\\\n",
    "escolha entre [sim, s, yes, y] para cadastrar uma nova pessoa ou [não, nao, n, no] para parar')\n",
    "  return cadastros\n",
    "\n",
    "def calcule_media_idade_por_sexo(cadastros):\n",
    "  quantidade_feminino = 0\n",
    "  quantidade_masculino = 0\n",
    "  soma_idade_feminino = 0\n",
    "  soma_idade_masculino = 0\n",
    "  for cpf in cadastros:\n",
    "    pessoa = cadastros[cpf]\n",
    "    if pessoa.sexo == 'f':\n",
    "        quantidade_feminino = quantidade_feminino + 1\n",
    "        soma_idade_feminino = soma_idade_feminino + pessoa.idade\n",
    "    elif pessoa.sexo == 'm':\n",
    "        quantidade_masculino = quantidade_masculino + 1\n",
    "        soma_idade_masculino = soma_idade_masculino + pessoa.idade\n",
    "  \n",
    "  media_feminino = 0\n",
    "  if quantidade_feminino > 0:\n",
    "    media_feminino = soma_idade_feminino / quantidade_feminino\n",
    "  media_masculino = 0\n",
    "  if quantidade_masculino >0:\n",
    "    media_masculino = soma_idade_masculino / quantidade_masculino\n",
    "\n",
    "  print('A media da idade do sexo Feminino é: ', media_feminino)\n",
    "  print('A media da idade do sexo Masculino é: ', media_masculino)\n",
    "\n",
    "\n",
    "def conte_quantidade_por_sexo(cadastros):\n",
    "  return 0\n",
    "def filtre_dados(cadastros, estado):\n",
    "  return 0\n",
    "\n",
    "def delete_cadastro(cadastros, cpf):\n",
    "  return 0\n",
    "\n",
    "cadastros = cadastrar_usuario()\n",
    "print(cadastros)\n",
    "print(calcule_media_idade_por_sexo(cadastros))\n",
    "print(conte_quantidade_por_sexo(cadastros))\n",
    "print(filtre_dados(cadastros, estado=\"Estado\"))\n",
    "print(delete_cadastro(cadastros, \"cpf\"))"
   ]
  }
 ],
 "metadata": {
  "kernelspec": {
   "display_name": "Python 3",
   "language": "python",
   "name": "python3"
  },
  "language_info": {
   "codemirror_mode": {
    "name": "ipython",
    "version": 3
   },
   "file_extension": ".py",
   "mimetype": "text/x-python",
   "name": "python",
   "nbconvert_exporter": "python",
   "pygments_lexer": "ipython3",
   "version": "3.8.9"
  },
  "orig_nbformat": 4,
  "vscode": {
   "interpreter": {
    "hash": "31f2aee4e71d21fbe5cf8b01ff0e069b9275f58929596ceb00d14d90e3e16cd6"
   }
  }
 },
 "nbformat": 4,
 "nbformat_minor": 2
}
