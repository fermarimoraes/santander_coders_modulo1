{
 "cells": [
  {
   "cell_type": "code",
   "execution_count": 12,
   "metadata": {},
   "outputs": [
    {
     "name": "stdout",
     "output_type": "stream",
     "text": [
      "Cadastro finalizado, inserido 2 novos\n",
      "{'09876543212': Pessoa(cpf='09876543212', nome='maria', idade=45, sexo='f', renda=34.0, estado='go'), '56677898989': Pessoa(cpf='56677898989', nome='joao', idade=34, sexo='m', renda=45.0, estado='go')}\n",
      "A media da idade do sexo Feminino é:  45.0\n",
      "A media da idade do sexo Masculino é:  34.0\n",
      "1 45\n",
      "None\n",
      "0\n",
      "0\n",
      "0\n"
     ]
    }
   ],
   "source": [
    "from collections import namedtuple\n",
    "Pessoa = namedtuple('Pessoa', ['cpf', 'nome', 'idade', 'sexo', 'renda', \"estado\"])\n",
    "def cadastrar_usuario():\n",
    "  continuar_cadastro = True\n",
    "\n",
    "  cadastros = {}\n",
    "\n",
    "  while continuar_cadastro:\n",
    "    cadastrar = input('Deseja inserir um novo cadastro?')\n",
    "    if cadastrar.lower() in ['sim', 's', 'yes', 'y']:\n",
    "      cpf = input('Insira o cpf: ')\n",
    "      nome = input('Insira o nome: ')\n",
    "      idade = int(input('Insira a idade: '))\n",
    "      sexo = input('Insira o sexo: ')\n",
    "      renda = float(input('Insira a renda: '))\n",
    "      estado = input('Insira o estado: ')\n",
    "      cadastro = Pessoa(cpf=cpf, nome=nome, idade=idade, sexo=sexo, renda=renda, estado=estado)\n",
    "      cadastros[cpf] = cadastro\n",
    "    elif cadastrar.lower() in ['não', 'n', 'nao', 'no']:\n",
    "      print(f'Cadastro finalizado, inserido {len(cadastros)} novos')\n",
    "      continuar_cadastro = False\n",
    "    else:\n",
    "      print(f'Opção invalida. Foi inserido \"{cadastrar}\",\\\n",
    "escolha entre [sim, s, yes, y] para cadastrar uma nova pessoa ou [não, nao, n, no] para parar')\n",
    "  return cadastros\n",
    "\n",
    "def calcule_media_idade_por_sexo(cadastros):\n",
    "  quantidade_feminino = 0\n",
    "  quantidade_masculino = 0\n",
    "  soma_idade_feminino = 0\n",
    "  soma_idade_masculino = 0\n",
    "  for cpf in cadastros:\n",
    "    pessoa = cadastros[cpf]\n",
    "    if pessoa.sexo == 'f':\n",
    "        quantidade_feminino = quantidade_feminino + 1\n",
    "        soma_idade_feminino = soma_idade_feminino + pessoa.idade\n",
    "    elif pessoa.sexo == 'm':\n",
    "        quantidade_masculino = quantidade_masculino + 1\n",
    "        soma_idade_masculino = soma_idade_masculino + pessoa.idade\n",
    "\n",
    "  print('A media da idade do sexo Feminino é: ', soma_idade_feminino / quantidade_feminino)\n",
    "  print('A media da idade do sexo Masculino é: ', soma_idade_masculino / quantidade_masculino)\n",
    "\n",
    "\n",
    "def conte_quantidade_por_sexo(cadastros):\n",
    "  return 0\n",
    "def filtre_dados(cadastros, estado):\n",
    "  return 0\n",
    "\n",
    "def delete_cadastro(cadastros, cpf):\n",
    "  return 0\n",
    "\n",
    "cadastros = cadastrar_usuario()\n",
    "print(cadastros)\n",
    "print(calcule_media_idade_por_sexo(cadastros))\n",
    "print(conte_quantidade_por_sexo(cadastros))\n",
    "print(filtre_dados(cadastros, estado=\"Estado\"))\n",
    "print(delete_cadastro(cadastros, \"cpf\"))"
   ]
  }
 ],
 "metadata": {
  "kernelspec": {
   "display_name": "Python 3",
   "language": "python",
   "name": "python3"
  },
  "language_info": {
   "codemirror_mode": {
    "name": "ipython",
    "version": 3
   },
   "file_extension": ".py",
   "mimetype": "text/x-python",
   "name": "python",
   "nbconvert_exporter": "python",
   "pygments_lexer": "ipython3",
   "version": "3.8.9"
  },
  "orig_nbformat": 4,
  "vscode": {
   "interpreter": {
    "hash": "31f2aee4e71d21fbe5cf8b01ff0e069b9275f58929596ceb00d14d90e3e16cd6"
   }
  }
 },
 "nbformat": 4,
 "nbformat_minor": 2
}
